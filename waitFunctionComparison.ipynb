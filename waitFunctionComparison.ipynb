{
 "cells": [
  {
   "cell_type": "code",
   "execution_count": 1,
   "metadata": {},
   "outputs": [],
   "source": "#python3\n#coding:utf8\n# Title: wait function testing\n# Author: Lindsay S. Shaffer\n\n\n\"\"\" \nThis script compares wait time using the following:\n    \n    - core.wait() --> getWaitCore()\n    - the global clock from the machine --> getWaitTime()\n    \n\"\"\"\nimport time\nfrom psychopy import core"
  },
  {
   "cell_type": "code",
   "execution_count": 8,
   "metadata": {},
   "outputs": [],
   "source": "def wait(duration):\n    \"\"\" A function that waits \"\"\"\n    start_time = time.perf_counter()\n    end_time = start_time + duration\n\n    while time.perf_counter() < end_time:\n        pass"
  },
  {
   "cell_type": "code",
   "execution_count": 9,
   "metadata": {},
   "outputs": [],
   "source": "def getWaitTime():\n    \"\"\" A function to wait using the global clock of the machine \"\"\"\n    start_time = time.perf_counter()\n    wait(0.01)  # Wait for 0.01 ms\n    end_time = time.perf_counter()\n    elapsed_time = end_time - start_time\n    print(elapsed_time)"
  },
  {
   "cell_type": "code",
   "execution_count": 10,
   "metadata": {},
   "outputs": [],
   "source": "def getWaitCore():\n    \"\"\" A function to wait using psychopy core \"\"\"\n    start_time = time.perf_counter()\n    core.wait(0.01)  # Wait for 0.01 ms\n    end_time = time.perf_counter()\n    elapsed_time = end_time - start_time\n    print(elapsed_time)"
  },
  {
   "cell_type": "code",
   "execution_count": 11,
   "metadata": {},
   "outputs": [
    {
     "name": "stdout",
     "output_type": "stream",
     "text": " *** Wait times using GLOBAL CLOCK: ***\n0.010007755015976727\n0.010004160983953625\n0.010001610964536667\n0.010001884016674012\n0.010001490009017289\n0.010001461021602154\n0.010001258982811123\n0.010001340007875115\n0.010000645008403808\n0.010000801994465292\n0.0100008369772695\n0.010000601003412157\n0.010000699025113136\n0.01000075094634667\n0.010000673995818943\n0.010000722017139196\n0.010000883019529283\n0.010000762005802244\n0.010000581038184464\n0.01000074198236689\n0.0100008700392209\n0.010000720038078725\n0.01000074198236689\n0.010000831971410662\n0.010000898968428373\n0.010001071030274034\n0.010000665963161737\n0.01000062096863985\n0.010000795999076217\n0.010000873997341841\n"
    }
   ],
   "source": "print(\" *** Wait times using GLOBAL CLOCK: ***\")\nfor i in range(30):\n    getWaitTime()\n"
  },
  {
   "cell_type": "code",
   "execution_count": 12,
   "metadata": {},
   "outputs": [
    {
     "name": "stdout",
     "output_type": "stream",
     "text": " *** Wait times using CORE.WAIT(): ***\n0.010029002965893596\n0.010018206026870757\n0.010015978012233973\n0.010019035020377487\n0.010015768988523632\n0.010016034997534007\n0.010006839002016932\n0.010010396013967693\n0.010008282959461212\n0.010018165980000049\n0.01000934699550271\n0.01000732701504603\n0.010007926961407065\n0.010014033992774785\n0.010011364007368684\n0.010012364946305752\n0.010019623034168035\n0.010010359983425587\n0.010008441982790828\n0.010023690003436059\n0.010010113997850567\n0.010017303982749581\n0.01003154501086101\n0.010009943973273039\n0.010009485005866736\n0.01000885502435267\n0.0100160600268282\n0.010015540989115834\n0.010010358004365116\n0.010017291991971433\n"
    }
   ],
   "source": "print(\" *** Wait times using CORE.WAIT(): ***\")\nfor i in range(30):\n    getWaitCore()"
  },
  {
   "cell_type": "code",
   "execution_count": null,
   "metadata": {},
   "outputs": [],
   "source": ""
  }
 ],
 "metadata": {
  "kernelspec": {
   "display_name": "Python 3",
   "language": "python",
   "name": "python3"
  },
  "language_info": {
   "codemirror_mode": {
    "name": "ipython",
    "version": 3
   },
   "file_extension": ".py",
   "mimetype": "text/x-python",
   "name": "python",
   "nbconvert_exporter": "python",
   "pygments_lexer": "ipython3",
   "version": "3.6.9"
  }
 },
 "nbformat": 4,
 "nbformat_minor": 4
}
