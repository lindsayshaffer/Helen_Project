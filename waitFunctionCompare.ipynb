{
 "cells": [
  {
   "cell_type": "code",
   "execution_count": 1,
   "metadata": {},
   "outputs": [],
   "source": "#python3\n#coding:utf8\n# Title: wait function testing\n# Author: Lindsay S. Shaffer\n\n\n\"\"\" \nThis script compares wait time using the following:\n    \n    - core.wait() --> getWaitCore()\n    - the global clock from the machine --> getWaitTime()\n    \n\"\"\"\nimport time\nfrom psychopy import core"
  },
  {
   "cell_type": "code",
   "execution_count": 2,
   "metadata": {},
   "outputs": [],
   "source": "def wait(duration):\n    \"\"\" A function that waits \"\"\"\n    start_time = time.perf_counter()\n    end_time = start_time + duration\n\n    while time.perf_counter() < end_time:\n        pass"
  },
  {
   "cell_type": "code",
   "execution_count": 3,
   "metadata": {},
   "outputs": [],
   "source": "def getWaitTime():\n    \"\"\" A function to wait using the global clock of the machine \"\"\"\n    start_time = time.perf_counter()\n    wait(2.5)  # Wait for 2.5 seconds\n    end_time = time.perf_counter()\n    elapsed_time = end_time - start_time\n    print(elapsed_time)"
  },
  {
   "cell_type": "code",
   "execution_count": 4,
   "metadata": {},
   "outputs": [],
   "source": "def getWaitCore():\n    \"\"\" A function to wait using psychopy core \"\"\"\n    start_time = time.perf_counter()\n    core.wait(2.5)  # Wait for 2.5 seconds\n    end_time = time.perf_counter()\n    elapsed_time = end_time - start_time\n    print(elapsed_time)"
  },
  {
   "cell_type": "code",
   "execution_count": 6,
   "metadata": {},
   "outputs": [
    {
     "name": "stdout",
     "output_type": "stream",
     "text": " *** Wait times using GLOBAL CLOCK: ***\n2.5000033699907362\n2.5000021960004233\n2.500002052052878\n2.5000016320263967\n2.5000020309817046\n2.5000015679979697\n2.5000019429717213\n2.5000023120082915\n2.500001737033017\n2.5000017970451154\n2.500001690001227\n2.500001879991032\n2.5000017730053514\n2.5000015340046957\n2.5000014279503375\n2.5000018129940145\n2.50000178598566\n2.5000023770262487\n2.5000017459969968\n2.500001717999112\n2.500001775973942\n2.5000017280108295\n2.5000240950030275\n2.50000183400698\n2.5000015720142983\n2.5000019060098566\n2.500002279994078\n2.500001820968464\n2.5000020929728635\n2.500015022989828\n"
    }
   ],
   "source": "print(\" *** Wait times using GLOBAL CLOCK: ***\")\nfor i in range(30):\n    getWaitTime()\n"
  },
  {
   "cell_type": "code",
   "execution_count": 7,
   "metadata": {},
   "outputs": [
    {
     "name": "stdout",
     "output_type": "stream",
     "text": " *** Wait times using CORE.WAIT(): ***\n2.500583636981901\n2.5010596599895507\n2.5023781600175425\n2.5027367590228096\n2.5025400730082765\n2.5024180350010283\n2.502429182000924\n2.5025003209593706\n2.502559526008554\n2.5024210570263676\n2.502558225998655\n2.5024226479581557\n2.5026789320399985\n2.502356609038543\n2.502656000026036\n2.501504442014266\n2.500202391995117\n2.5024284519604407\n2.5026533200289123\n2.502543525013607\n2.502414168964606\n2.5015284739783965\n2.502454401983414\n2.5025365019682795\n2.502414400980342\n2.500576806953177\n2.5019604680128396\n2.502605279965792\n2.5024212060379796\n2.5024162040208466\n"
    }
   ],
   "source": "print(\" *** Wait times using CORE.WAIT(): ***\")\nfor i in range(30):\n    getWaitCore()"
  },
  {
   "cell_type": "code",
   "execution_count": null,
   "metadata": {},
   "outputs": [],
   "source": ""
  }
 ],
 "metadata": {
  "kernelspec": {
   "display_name": "Python 3",
   "language": "python",
   "name": "python3"
  },
  "language_info": {
   "codemirror_mode": {
    "name": "ipython",
    "version": 3
   },
   "file_extension": ".py",
   "mimetype": "text/x-python",
   "name": "python",
   "nbconvert_exporter": "python",
   "pygments_lexer": "ipython3",
   "version": "3.6.9"
  }
 },
 "nbformat": 4,
 "nbformat_minor": 4
}
